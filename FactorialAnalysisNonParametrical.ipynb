{
  "nbformat": 4,
  "nbformat_minor": 0,
  "metadata": {
    "colab": {
      "provenance": [],
      "authorship_tag": "ABX9TyO4J2VWyEl2hbm4m5GKtmME",
      "include_colab_link": true
    },
    "kernelspec": {
      "name": "python3",
      "display_name": "Python 3"
    },
    "language_info": {
      "name": "python"
    }
  },
  "cells": [
    {
      "cell_type": "markdown",
      "metadata": {
        "id": "view-in-github",
        "colab_type": "text"
      },
      "source": [
        "<a href=\"https://colab.research.google.com/github/mlacasa/EstadisticaQ2/blob/main/FactorialAnalysisNonParametrical.ipynb\" target=\"_parent\"><img src=\"https://colab.research.google.com/assets/colab-badge.svg\" alt=\"Open In Colab\"/></a>"
      ]
    },
    {
      "cell_type": "markdown",
      "source": [
        "# Alternativas No Paramétricas a ANOVA: Kruskal-Wallis y Friedman\n",
        "\n",
        "## Introducción\n",
        "\n",
        "El análisis de varianza (ANOVA) es una herramienta estadística utilizada para comparar las medias de tres o más grupos. Sin embargo, ANOVA asume que los datos son normalmente distribuidos y que las varianzas son homogéneas. En situaciones donde estas condiciones no se cumplen, se pueden emplear métodos no paramétricos como el test de Kruskal-Wallis y el test de Friedman.\n",
        "\n",
        "## Test de Kruskal-Wallis\n",
        "\n",
        "### Descripción\n",
        "\n",
        "El test de Kruskal-Wallis es una alternativa no paramétrica a ANOVA de una vía. Este test evalúa si hay diferencias significativas entre las medianas de tres o más grupos independientes. Se basa en la clasificación de los datos en lugar de sus valores originales.\n",
        "\n",
        "### Cuándo utilizarlo\n",
        "\n",
        "Utiliza el test de Kruskal-Wallis cuando:\n",
        "- Tienes tres o más grupos independientes.\n",
        "- Los datos no cumplen con los supuestos de normalidad o igualdad de varianzas.\n",
        "\n",
        "### Ejemplo en Salud\n",
        "\n",
        "Dado un estudio que evalúa la efectividad de tres diferentes tratamientos para reducir la presión arterial en pacientes hipertensos. La presión arterial se mide después de un tratamiento de ocho semanas.\n",
        "\n",
        "1. **Grupo A**: Tratamiento 1\n",
        "2. **Grupo B**: Tratamiento 2\n",
        "3. **Grupo C**: Tratamiento 3\n",
        "\n",
        "Si se tiene una distribución no normal de las reducciones de presión arterial, se podría aplicar el test de Kruskal-Wallis para determinar si hay diferencias significativas en la eficacia de los tratamientos.\n",
        "\n",
        "### Cita Bibliográfica\n",
        "\n",
        "- Altman, D. G., & Bland, J. M. (1996). Statistics notes: Absence of evidence is not evidence of absence. *BMJ*, 313(7061), 36. DOI: [10.1136/bmj.313.7061.36](https://doi.org/10.1136/bmj.313.7061.36)\n",
        "\n",
        "## Test de Friedman\n",
        "\n",
        "### Descripción\n",
        "\n",
        "El test de Friedman es una alternativa no paramétrica al ANOVA de datos pareados (o también medidas repetidas). Este método se utiliza para evaluar diferencias entre grupos cuando las muestras son dependientes, es decir, cuando se aplican mediciones en distinto momento en el tiempo sobre los mismos sujetos.\n",
        "\n",
        "### Cuándo utilizarlo\n",
        "\n",
        "Utiliza el test de Friedman cuando:\n",
        "- Tienes tres o más grupos relacionados o dependientes.\n",
        "- Los datos no cumplen con los supuestos de normalidad.\n",
        "- Es un análisis de datos pareados.\n",
        "\n",
        "### Ejemplo en Salud\n",
        "\n",
        "Suponga un estudio que mide los niveles de colesterol en pacientes antes y después de aplicar tres dietas diferentes durante un mes.\n",
        "\n",
        "1. **Mes 1**: Dieta A\n",
        "2. **Mes 2**: Dieta B\n",
        "3. **Mes 3**: Dieta C\n",
        "\n",
        "Dado que los mismos pacientes son evaluados en cada dieta, el test de Friedman es adecuado para determinar si hay diferencias significativas en los niveles de colesterol entre las tres dietas.\n",
        "\n",
        "### Cita Bibliográfica\n",
        "\n",
        "- Siegel, S., & Castellan, N. J. (1988). Nonparametric Statistics for the Behavioral Sciences. *McGraw-Hill*, 2nd edition. DOI: [10.1016/B978-0-08-057049-8.50047-6](https://doi.org/10.1016/B978-0-08-057049-8.50047-6)\n",
        "\n",
        "## Conclusión\n",
        "\n",
        "Tanto el test de Kruskal-Wallis como el test de Friedman son herramientas estadísticas valiosas cuando los supuestos del ANOVA no se pueden cumplir. Su aplicación en el campo de la salud es fundamental, ya que muchas variables biomédicas no se distribuyen normalmente y requieren métodos robustos para su análisis.\n",
        "\n",
        "## EJEMPLO\n",
        "\n",
        "Se analizan 3 dientas y su influencia en el colesterol de una serie de pacientes. Se mide el colesterol en un momento inicial y otro final. Se pide realizar un análisis factorial."
      ],
      "metadata": {
        "id": "z1XNBuoMKxjL"
      }
    },
    {
      "cell_type": "code",
      "execution_count": 4,
      "metadata": {
        "colab": {
          "base_uri": "https://localhost:8080/",
          "height": 206
        },
        "id": "62ihEKseKG1K",
        "outputId": "be35983e-0f2c-46b9-c050-a5d5b2058ed9"
      },
      "outputs": [
        {
          "output_type": "execute_result",
          "data": {
            "text/plain": [
              "     Group      Before       After\n",
              "0  Dieta A   93.853618   82.657676\n",
              "1  Dieta A  602.024286  584.891838\n",
              "2  Dieta A  263.349139  245.741288\n",
              "3  Dieta A  182.588511  166.975739\n",
              "4  Dieta A   33.924974   16.215302"
            ],
            "text/html": [
              "\n",
              "  <div id=\"df-a18321f0-68e7-410d-adcf-67f8ac66b237\" class=\"colab-df-container\">\n",
              "    <div>\n",
              "<style scoped>\n",
              "    .dataframe tbody tr th:only-of-type {\n",
              "        vertical-align: middle;\n",
              "    }\n",
              "\n",
              "    .dataframe tbody tr th {\n",
              "        vertical-align: top;\n",
              "    }\n",
              "\n",
              "    .dataframe thead th {\n",
              "        text-align: right;\n",
              "    }\n",
              "</style>\n",
              "<table border=\"1\" class=\"dataframe\">\n",
              "  <thead>\n",
              "    <tr style=\"text-align: right;\">\n",
              "      <th></th>\n",
              "      <th>Group</th>\n",
              "      <th>Before</th>\n",
              "      <th>After</th>\n",
              "    </tr>\n",
              "  </thead>\n",
              "  <tbody>\n",
              "    <tr>\n",
              "      <th>0</th>\n",
              "      <td>Dieta A</td>\n",
              "      <td>93.853618</td>\n",
              "      <td>82.657676</td>\n",
              "    </tr>\n",
              "    <tr>\n",
              "      <th>1</th>\n",
              "      <td>Dieta A</td>\n",
              "      <td>602.024286</td>\n",
              "      <td>584.891838</td>\n",
              "    </tr>\n",
              "    <tr>\n",
              "      <th>2</th>\n",
              "      <td>Dieta A</td>\n",
              "      <td>263.349139</td>\n",
              "      <td>245.741288</td>\n",
              "    </tr>\n",
              "    <tr>\n",
              "      <th>3</th>\n",
              "      <td>Dieta A</td>\n",
              "      <td>182.588511</td>\n",
              "      <td>166.975739</td>\n",
              "    </tr>\n",
              "    <tr>\n",
              "      <th>4</th>\n",
              "      <td>Dieta A</td>\n",
              "      <td>33.924974</td>\n",
              "      <td>16.215302</td>\n",
              "    </tr>\n",
              "  </tbody>\n",
              "</table>\n",
              "</div>\n",
              "    <div class=\"colab-df-buttons\">\n",
              "\n",
              "  <div class=\"colab-df-container\">\n",
              "    <button class=\"colab-df-convert\" onclick=\"convertToInteractive('df-a18321f0-68e7-410d-adcf-67f8ac66b237')\"\n",
              "            title=\"Convert this dataframe to an interactive table.\"\n",
              "            style=\"display:none;\">\n",
              "\n",
              "  <svg xmlns=\"http://www.w3.org/2000/svg\" height=\"24px\" viewBox=\"0 -960 960 960\">\n",
              "    <path d=\"M120-120v-720h720v720H120Zm60-500h600v-160H180v160Zm220 220h160v-160H400v160Zm0 220h160v-160H400v160ZM180-400h160v-160H180v160Zm440 0h160v-160H620v160ZM180-180h160v-160H180v160Zm440 0h160v-160H620v160Z\"/>\n",
              "  </svg>\n",
              "    </button>\n",
              "\n",
              "  <style>\n",
              "    .colab-df-container {\n",
              "      display:flex;\n",
              "      gap: 12px;\n",
              "    }\n",
              "\n",
              "    .colab-df-convert {\n",
              "      background-color: #E8F0FE;\n",
              "      border: none;\n",
              "      border-radius: 50%;\n",
              "      cursor: pointer;\n",
              "      display: none;\n",
              "      fill: #1967D2;\n",
              "      height: 32px;\n",
              "      padding: 0 0 0 0;\n",
              "      width: 32px;\n",
              "    }\n",
              "\n",
              "    .colab-df-convert:hover {\n",
              "      background-color: #E2EBFA;\n",
              "      box-shadow: 0px 1px 2px rgba(60, 64, 67, 0.3), 0px 1px 3px 1px rgba(60, 64, 67, 0.15);\n",
              "      fill: #174EA6;\n",
              "    }\n",
              "\n",
              "    .colab-df-buttons div {\n",
              "      margin-bottom: 4px;\n",
              "    }\n",
              "\n",
              "    [theme=dark] .colab-df-convert {\n",
              "      background-color: #3B4455;\n",
              "      fill: #D2E3FC;\n",
              "    }\n",
              "\n",
              "    [theme=dark] .colab-df-convert:hover {\n",
              "      background-color: #434B5C;\n",
              "      box-shadow: 0px 1px 3px 1px rgba(0, 0, 0, 0.15);\n",
              "      filter: drop-shadow(0px 1px 2px rgba(0, 0, 0, 0.3));\n",
              "      fill: #FFFFFF;\n",
              "    }\n",
              "  </style>\n",
              "\n",
              "    <script>\n",
              "      const buttonEl =\n",
              "        document.querySelector('#df-a18321f0-68e7-410d-adcf-67f8ac66b237 button.colab-df-convert');\n",
              "      buttonEl.style.display =\n",
              "        google.colab.kernel.accessAllowed ? 'block' : 'none';\n",
              "\n",
              "      async function convertToInteractive(key) {\n",
              "        const element = document.querySelector('#df-a18321f0-68e7-410d-adcf-67f8ac66b237');\n",
              "        const dataTable =\n",
              "          await google.colab.kernel.invokeFunction('convertToInteractive',\n",
              "                                                    [key], {});\n",
              "        if (!dataTable) return;\n",
              "\n",
              "        const docLinkHtml = 'Like what you see? Visit the ' +\n",
              "          '<a target=\"_blank\" href=https://colab.research.google.com/notebooks/data_table.ipynb>data table notebook</a>'\n",
              "          + ' to learn more about interactive tables.';\n",
              "        element.innerHTML = '';\n",
              "        dataTable['output_type'] = 'display_data';\n",
              "        await google.colab.output.renderOutput(dataTable, element);\n",
              "        const docLink = document.createElement('div');\n",
              "        docLink.innerHTML = docLinkHtml;\n",
              "        element.appendChild(docLink);\n",
              "      }\n",
              "    </script>\n",
              "  </div>\n",
              "\n",
              "\n",
              "<div id=\"df-b528d839-f73e-4749-beae-8abde6b4e54f\">\n",
              "  <button class=\"colab-df-quickchart\" onclick=\"quickchart('df-b528d839-f73e-4749-beae-8abde6b4e54f')\"\n",
              "            title=\"Suggest charts\"\n",
              "            style=\"display:none;\">\n",
              "\n",
              "<svg xmlns=\"http://www.w3.org/2000/svg\" height=\"24px\"viewBox=\"0 0 24 24\"\n",
              "     width=\"24px\">\n",
              "    <g>\n",
              "        <path d=\"M19 3H5c-1.1 0-2 .9-2 2v14c0 1.1.9 2 2 2h14c1.1 0 2-.9 2-2V5c0-1.1-.9-2-2-2zM9 17H7v-7h2v7zm4 0h-2V7h2v10zm4 0h-2v-4h2v4z\"/>\n",
              "    </g>\n",
              "</svg>\n",
              "  </button>\n",
              "\n",
              "<style>\n",
              "  .colab-df-quickchart {\n",
              "      --bg-color: #E8F0FE;\n",
              "      --fill-color: #1967D2;\n",
              "      --hover-bg-color: #E2EBFA;\n",
              "      --hover-fill-color: #174EA6;\n",
              "      --disabled-fill-color: #AAA;\n",
              "      --disabled-bg-color: #DDD;\n",
              "  }\n",
              "\n",
              "  [theme=dark] .colab-df-quickchart {\n",
              "      --bg-color: #3B4455;\n",
              "      --fill-color: #D2E3FC;\n",
              "      --hover-bg-color: #434B5C;\n",
              "      --hover-fill-color: #FFFFFF;\n",
              "      --disabled-bg-color: #3B4455;\n",
              "      --disabled-fill-color: #666;\n",
              "  }\n",
              "\n",
              "  .colab-df-quickchart {\n",
              "    background-color: var(--bg-color);\n",
              "    border: none;\n",
              "    border-radius: 50%;\n",
              "    cursor: pointer;\n",
              "    display: none;\n",
              "    fill: var(--fill-color);\n",
              "    height: 32px;\n",
              "    padding: 0;\n",
              "    width: 32px;\n",
              "  }\n",
              "\n",
              "  .colab-df-quickchart:hover {\n",
              "    background-color: var(--hover-bg-color);\n",
              "    box-shadow: 0 1px 2px rgba(60, 64, 67, 0.3), 0 1px 3px 1px rgba(60, 64, 67, 0.15);\n",
              "    fill: var(--button-hover-fill-color);\n",
              "  }\n",
              "\n",
              "  .colab-df-quickchart-complete:disabled,\n",
              "  .colab-df-quickchart-complete:disabled:hover {\n",
              "    background-color: var(--disabled-bg-color);\n",
              "    fill: var(--disabled-fill-color);\n",
              "    box-shadow: none;\n",
              "  }\n",
              "\n",
              "  .colab-df-spinner {\n",
              "    border: 2px solid var(--fill-color);\n",
              "    border-color: transparent;\n",
              "    border-bottom-color: var(--fill-color);\n",
              "    animation:\n",
              "      spin 1s steps(1) infinite;\n",
              "  }\n",
              "\n",
              "  @keyframes spin {\n",
              "    0% {\n",
              "      border-color: transparent;\n",
              "      border-bottom-color: var(--fill-color);\n",
              "      border-left-color: var(--fill-color);\n",
              "    }\n",
              "    20% {\n",
              "      border-color: transparent;\n",
              "      border-left-color: var(--fill-color);\n",
              "      border-top-color: var(--fill-color);\n",
              "    }\n",
              "    30% {\n",
              "      border-color: transparent;\n",
              "      border-left-color: var(--fill-color);\n",
              "      border-top-color: var(--fill-color);\n",
              "      border-right-color: var(--fill-color);\n",
              "    }\n",
              "    40% {\n",
              "      border-color: transparent;\n",
              "      border-right-color: var(--fill-color);\n",
              "      border-top-color: var(--fill-color);\n",
              "    }\n",
              "    60% {\n",
              "      border-color: transparent;\n",
              "      border-right-color: var(--fill-color);\n",
              "    }\n",
              "    80% {\n",
              "      border-color: transparent;\n",
              "      border-right-color: var(--fill-color);\n",
              "      border-bottom-color: var(--fill-color);\n",
              "    }\n",
              "    90% {\n",
              "      border-color: transparent;\n",
              "      border-bottom-color: var(--fill-color);\n",
              "    }\n",
              "  }\n",
              "</style>\n",
              "\n",
              "  <script>\n",
              "    async function quickchart(key) {\n",
              "      const quickchartButtonEl =\n",
              "        document.querySelector('#' + key + ' button');\n",
              "      quickchartButtonEl.disabled = true;  // To prevent multiple clicks.\n",
              "      quickchartButtonEl.classList.add('colab-df-spinner');\n",
              "      try {\n",
              "        const charts = await google.colab.kernel.invokeFunction(\n",
              "            'suggestCharts', [key], {});\n",
              "      } catch (error) {\n",
              "        console.error('Error during call to suggestCharts:', error);\n",
              "      }\n",
              "      quickchartButtonEl.classList.remove('colab-df-spinner');\n",
              "      quickchartButtonEl.classList.add('colab-df-quickchart-complete');\n",
              "    }\n",
              "    (() => {\n",
              "      let quickchartButtonEl =\n",
              "        document.querySelector('#df-b528d839-f73e-4749-beae-8abde6b4e54f button');\n",
              "      quickchartButtonEl.style.display =\n",
              "        google.colab.kernel.accessAllowed ? 'block' : 'none';\n",
              "    })();\n",
              "  </script>\n",
              "</div>\n",
              "\n",
              "    </div>\n",
              "  </div>\n"
            ],
            "application/vnd.google.colaboratory.intrinsic+json": {
              "type": "dataframe",
              "variable_name": "data",
              "summary": "{\n  \"name\": \"data\",\n  \"rows\": 90,\n  \"fields\": [\n    {\n      \"column\": \"Group\",\n      \"properties\": {\n        \"dtype\": \"category\",\n        \"num_unique_values\": 3,\n        \"samples\": [\n          \"Dieta A\",\n          \"Dieta B\",\n          \"Dieta C\"\n        ],\n        \"semantic_type\": \"\",\n        \"description\": \"\"\n      }\n    },\n    {\n      \"column\": \"Before\",\n      \"properties\": {\n        \"dtype\": \"number\",\n        \"std\": 196.60150403099203,\n        \"min\": 1.1351711770667723,\n        \"max\": 888.4999996154005,\n        \"num_unique_values\": 90,\n        \"samples\": [\n          27.331969130434214,\n          69.10310240048045,\n          535.381429646575\n        ],\n        \"semantic_type\": \"\",\n        \"description\": \"\"\n      }\n    },\n    {\n      \"column\": \"After\",\n      \"properties\": {\n        \"dtype\": \"number\",\n        \"std\": 196.9352488172848,\n        \"min\": -20.200125930542175,\n        \"max\": 866.2178361292819,\n        \"num_unique_values\": 90,\n        \"samples\": [\n          18.157859098946425,\n          49.806125877054725,\n          530.0125601730297\n        ],\n        \"semantic_type\": \"\",\n        \"description\": \"\"\n      }\n    }\n  ]\n}"
            }
          },
          "metadata": {},
          "execution_count": 4
        }
      ],
      "source": [
        "import numpy as np\n",
        "import pandas as pd\n",
        "import scipy.stats as stats\n",
        "import matplotlib.pyplot as plt\n",
        "import seaborn as sns\n",
        "\n",
        "# Configuración inicial\n",
        "np.random.seed(42)  # Para reproducibilidad\n",
        "n = 30  # Número de participantes en cada grupo\n",
        "\n",
        "# Simulación de datos\n",
        "# Colesterol inicial (no normalmente distribuido)\n",
        "diet_a_before = np.random.exponential(200, n)  # Dieta A\n",
        "diet_b_before = np.random.exponential(210, n)  # Dieta B\n",
        "diet_c_before = np.random.exponential(205, n)  # Dieta C\n",
        "\n",
        "# Colesterol tras 6 semanas (suponiendo una reducción)\n",
        "diet_a_after = diet_a_before - np.random.uniform(10, 20, n)\n",
        "diet_b_after = diet_b_before - np.random.uniform(5, 15, n)\n",
        "diet_c_after = diet_c_before - np.random.uniform(15, 25, n)\n",
        "\n",
        "# Crear un DataFrame\n",
        "data = pd.DataFrame({\n",
        "    'Group': ['Dieta A'] * n + ['Dieta B'] * n + ['Dieta C'] * n,\n",
        "    'Before': np.concatenate([diet_a_before, diet_b_before, diet_c_before]),\n",
        "    'After': np.concatenate([diet_a_after, diet_b_after, diet_c_after])\n",
        "})\n",
        "\n",
        "data.head()"
      ]
    },
    {
      "cell_type": "markdown",
      "source": [
        "## ILUSTRAMOS LAS MUESTRAS MEDIANTE BOXPLOT MOMENTO INICIAL"
      ],
      "metadata": {
        "id": "VXhVg5NLN1de"
      }
    },
    {
      "cell_type": "code",
      "source": [
        "plt.figure(figsize=(10, 6))\n",
        "sns.set_palette('pastel')\n",
        "boxplot = sns.boxplot(x='Group', y='Before', data=data)\n",
        "\n",
        "# Calcular y mostrar la media muestral de cada grupo\n",
        "means = data.groupby('Group')['Before'].mean()\n",
        "for i, mean in enumerate(means):\n",
        "    plt.scatter(i, mean, color='red', s=100, label='Media' if i == 0 else \"\", zorder=3)\n",
        "\n",
        "# Títulos y etiquetas\n",
        "plt.title('Boxplot de Niveles de Colesterol Antes del Tratamiento por Grupo de Dieta')\n",
        "plt.ylabel('Colesterol (mg/dL)')\n",
        "plt.xlabel('Grupo de Dieta')\n",
        "plt.grid()\n",
        "\n",
        "# Leyenda para la media\n",
        "plt.legend()\n",
        "\n",
        "# Mostrar el gráfico\n",
        "plt.show()"
      ],
      "metadata": {
        "colab": {
          "base_uri": "https://localhost:8080/",
          "height": 564
        },
        "id": "gtGLS_3VNxGJ",
        "outputId": "18b20791-4550-431a-a886-c7357d545501"
      },
      "execution_count": 6,
      "outputs": [
        {
          "output_type": "display_data",
          "data": {
            "text/plain": [
              "<Figure size 1000x600 with 1 Axes>"
            ],
            "image/png": "[encoded data removed]"
          },
          "metadata": {}
        }
      ]
    },
    {
      "cell_type": "markdown",
      "source": [
        "## ANÁLISIS DE LA NORMALIDAD Y HOMOCEDASATICIDAD DE LAS MUESTRAS"
      ],
      "metadata": {
        "id": "0V6TU4LvOKGd"
      }
    },
    {
      "cell_type": "code",
      "source": [
        "# Importar la función para el test de normalidad\n",
        "from scipy.stats import shapiro\n",
        "\n",
        "# Realizar el test de normalidad para cada grupo\n",
        "groups = data['Group'].unique()  # Obtener los nombres de los grupos\n",
        "normality_results = {}\n",
        "\n",
        "for group in groups:\n",
        "    # Filtrar los datos del grupo\n",
        "    sample = data[data['Group'] == group]['Before']\n",
        "    # Realizar el test de Shapiro-Wilk\n",
        "    stat, p_value = shapiro(sample)\n",
        "    normality_results[group] = (stat, p_value)\n",
        "    print(f\"Grupo: {group} - Estadístico: {stat:.3f}, p-valor: {p_value:.3f}\")\n",
        "\n",
        "# Interpretación de los resultados\n",
        "alpha = 0.05\n",
        "for group, (stat, p) in normality_results.items():\n",
        "    if p < alpha:\n",
        "        print(f\"Se rechaza la hipótesis nula para {group}: los datos no siguen una distribución normal.\")\n",
        "    else:\n",
        "        print(f\"No se rechaza la hipótesis nula para {group}: los datos podrían seguir una distribución normal.\")"
      ],
      "metadata": {
        "colab": {
          "base_uri": "https://localhost:8080/"
        },
        "id": "So4-dzcDONZj",
        "outputId": "5e1ac099-3b6d-4a31-d899-ffddc3093e01"
      },
      "execution_count": 7,
      "outputs": [
        {
          "output_type": "stream",
          "name": "stdout",
          "text": [
            "Grupo: Dieta A - Estadístico: 0.795, p-valor: 0.000\n",
            "Grupo: Dieta B - Estadístico: 0.838, p-valor: 0.000\n",
            "Grupo: Dieta C - Estadístico: 0.817, p-valor: 0.000\n",
            "Se rechaza la hipótesis nula para Dieta A: los datos no siguen una distribución normal.\n",
            "Se rechaza la hipótesis nula para Dieta B: los datos no siguen una distribución normal.\n",
            "Se rechaza la hipótesis nula para Dieta C: los datos no siguen una distribución normal.\n"
          ]
        }
      ]
    },
    {
      "cell_type": "markdown",
      "source": [
        "Una vez constatamos que las muestras no siguen una distribución normal, procedemos a realizar una primera comprobación obligada:\n",
        "\n",
        "### Las muestras entre grupos, ¿tienen diferencias significativas?\n",
        "\n",
        "El test que hay que utilizar cumple las condiciones de Kruskal-Wallis."
      ],
      "metadata": {
        "id": "iKadeZSLOjf9"
      }
    },
    {
      "cell_type": "code",
      "source": [
        "# Importar la función para el test de Kruskal-Wallis\n",
        "from scipy.stats import kruskal\n",
        "\n",
        "# Realizar el test de Kruskal-Wallis entre los grupos \"Before\"\n",
        "diet_a_before = data[data['Group'] == 'Dieta A']['Before']\n",
        "diet_b_before = data[data['Group'] == 'Dieta B']['Before']\n",
        "diet_c_before = data[data['Group'] == 'Dieta C']['Before']\n",
        "\n",
        "stat_kruskal, p_kruskal = kruskal(diet_a_before, diet_b_before, diet_c_before)\n",
        "\n",
        "# Resultados del test\n",
        "print(f'Estadístico de Kruskal-Wallis: {stat_kruskal:.3f}, p-valor: {p_kruskal:.3f}')\n",
        "\n",
        "# Interpretación del p-valor\n",
        "alpha = 0.05\n",
        "if p_kruskal < alpha:\n",
        "    print(\"Se rechaza la hipótesis nula: hay diferencias significativas entre los grupos.\")\n",
        "else:\n",
        "    print(\"No se rechaza la hipótesis nula: no hay diferencias significativas entre los grupos.\")"
      ],
      "metadata": {
        "colab": {
          "base_uri": "https://localhost:8080/"
        },
        "id": "-0MtfRsGPJr6",
        "outputId": "9849b0c4-bf6b-4dbd-c4f7-1cf856738855"
      },
      "execution_count": 8,
      "outputs": [
        {
          "output_type": "stream",
          "name": "stdout",
          "text": [
            "Estadístico de Kruskal-Wallis: 0.761, p-valor: 0.684\n",
            "No se rechaza la hipótesis nula: no hay diferencias significativas entre los grupos.\n"
          ]
        }
      ]
    },
    {
      "cell_type": "markdown",
      "source": [
        "# Importancia del Buen Balanceo de Datos en Estudios de Datos Pareados de Tres o Más Grupos\n",
        "\n",
        "## Introducción\n",
        "El balanceo de los datos es un aspecto crucial en el diseño de estudios estadísticos, especialmente en aquellos que implican comparaciones entre tres o más grupos. En el contexto de los estudios de datos pareados, donde se miden las respuestas de los mismos sujetos en diferentes condiciones o tratamientos, el balanceo adecuado es esencial para asegurar la validez y la precisión de las inferencias estadísticas.\n",
        "\n",
        "## Qué es el Balanceo de Datos\n",
        "El balanceo de datos se refiere a la distribución equitativa de los sujetos o muestras entre los diferentes grupos de tratamiento en un estudio. En un diseño pareado, esto significa que cada sujeto es evaluado bajo diferentes condiciones, y se debe asegurar que la cantidad de pares de datos sea igual para cada condición.\n",
        "\n",
        "## Importancia del Buen Balanceo\n",
        "\n",
        "1. **Reducción del Sesgo**:\n",
        "   - Un buen balanceo ayuda a minimizar el sesgo en las estimaciones de las medias y varianzas de los grupos. Si un grupo tiene considerablemente más observaciones que otro, esto puede distorsionar los resultados y llevar a conclusiones incorrectas.\n",
        "\n",
        "2. **Incremento de la Potencia Estadística**:\n",
        "   - La potencia estadística se refiere a la capacidad de un test para detectar diferencias reales cuando estas existen. Un diseño balanceado permite una mayor potencia, reduciendo las posibilidades de cometer errores tipo II (no detectar un efecto que realmente existe).\n",
        "\n",
        "3. **Mayor Fiabilidad en la Comparación**:\n",
        "   - En estudios pareados, el balanceo asegura que las comparaciones se realicen con un número igual de observaciones bajo cada tratamiento. Esto contribuye a una interpretación más confiable de las diferencias entre los grupos.\n",
        "\n",
        "4. **Facilitación de Análisis Estadísticos**:\n",
        "   - Muchos métodos estadísticos, incluidos ANOVA y otros tests de hipótesis, asumen una igualdad en los tamaños de muestra. El balanceo permite aplicar estos métodos con más confianza, aumentando la validez de los resultados.\n",
        "\n",
        "5. **Control de la Variabilidad**:\n",
        "   - Un diseño balanceado permite un mejor control de la variabilidad entre los grupos, ya que las diferencias observadas pueden atribuirse más a los tratamientos que se están evaluando y no a fluctuaciones aleatorias en las muestras.\n",
        "\n",
        "   ## Cita Bibliográfica\n",
        "- Montgomery, D. C. (2017). *Design and Analysis of Experiments*. Wiley. DOI: [10.1002/9781119335642](https://doi.org/10.1002/9781119335642)\n",
        "\n",
        "\n",
        "# ANÁLISIS DE DATOS PAREADOS\n",
        "\n",
        "## ¿EXISTEN DIFERENCIAS ENTRE MOMENTO INICIAL Y FINAL?\n",
        "\n",
        "En este caso, se utiliza un método no paramétrico de datos pareados, ee utiliza el test de Friedman\n",
        "\n",
        "- Janez Demšar. 2006. Statistical Comparisons of Classifiers over Multiple Data Sets. J. Mach. Learn. Res. 7 (12/1/2006), 1–30.\n"
      ],
      "metadata": {
        "id": "iuFGl8qWPY26"
      }
    },
    {
      "cell_type": "code",
      "source": [
        "from scipy.stats import friedmanchisquare, wilcoxon\n",
        "\n",
        "# Realizar el test de Friedman utilizando todos los niveles de colesterol por cada dieta\n",
        "# Debemos agrupar las muestras por antes y después\n",
        "stat, p = friedmanchisquare(\n",
        "    diet_a_before, diet_b_before, diet_c_before,\n",
        "    diet_a_after, diet_b_after, diet_c_after\n",
        ")\n",
        "\n",
        "# Resultados del test\n",
        "print(f'Estadístico de Friedman: {stat:.3f}, p-valor: {p:.3f}')\n",
        "\n",
        "# Interpretación del p-valor\n",
        "alpha = 0.05\n",
        "if p < alpha:\n",
        "    print(\"Se rechaza la hipótesis nula: hay diferencias significativas entre las dietas.\")\n",
        "else:\n",
        "    print(\"No se rechaza la hipótesis nula: no hay diferencias significativas entre las dietas.\")"
      ],
      "metadata": {
        "colab": {
          "base_uri": "https://localhost:8080/"
        },
        "id": "T3mITc5SQDGC",
        "outputId": "7c1f45e0-a96e-4d43-d71e-c576d530d620"
      },
      "execution_count": 14,
      "outputs": [
        {
          "output_type": "stream",
          "name": "stdout",
          "text": [
            "Estadístico de Friedman: 21.886, p-valor: 0.001\n",
            "Se rechaza la hipótesis nula: hay diferencias significativas entre las dietas.\n"
          ]
        }
      ]
    },
    {
      "cell_type": "markdown",
      "source": [
        "## Análisis Post-hoc\n",
        "El análisis post-hoc se refiere a la realización de pruebas adicionales después de haber detectado diferencias significativas en un análisis preliminar, como el test de Friedman. Este enfoque permite identificar qué grupos específicos son diferentes entre sí. En este caso, se utiliza el test de Wilcoxon, que es un método no paramétrico adecuado para datos pareados.\n"
      ],
      "metadata": {
        "id": "ZpjHXVFISP2y"
      }
    },
    {
      "cell_type": "code",
      "source": [
        "# Análisis post-hoc usando el test de Wilcoxon\n",
        "# Comparaciones entre dieta A, B y C - Ambas condiciones (Antes y Después)\n",
        "\n",
        "def wilcoxon_posthoc(group1, group2, label1, label2):\n",
        "    stat, p = wilcoxon(group1, group2)\n",
        "    print(f'Comparación {label1} vs {label2}: Estadístico W = {stat:.3f}, p-valor = {p:.3f}')\n",
        "    if p < alpha:\n",
        "        print(f\"Se rechaza la hipótesis nula: hay diferencias significativas entre {label1} y {label2}.\\n\")\n",
        "    else:\n",
        "        print(f\"No se rechaza la hipótesis nula: no hay diferencias significativas entre {label1} y {label2}.\\n\")\n",
        "\n",
        "# Comparaciones para la condición \"Antes\"\n",
        "wilcoxon_posthoc(diet_a_before, diet_b_before, 'Dieta A Antes', 'Dieta B Antes')\n",
        "wilcoxon_posthoc(diet_a_before, diet_c_before, 'Dieta A Antes', 'Dieta C Antes')\n",
        "wilcoxon_posthoc(diet_b_before, diet_c_before, 'Dieta B Antes', 'Dieta C Antes')\n",
        "\n",
        "# Comparaciones para la condición \"Después\"\n",
        "wilcoxon_posthoc(diet_a_after, diet_b_after, 'Dieta A Después', 'Dieta B Después')\n",
        "wilcoxon_posthoc(diet_a_after, diet_c_after, 'Dieta A Después', 'Dieta C Después')\n",
        "wilcoxon_posthoc(diet_b_after, diet_c_after, 'Dieta B Después', 'Dieta C Después')"
      ],
      "metadata": {
        "colab": {
          "base_uri": "https://localhost:8080/"
        },
        "id": "u0czl45USoOQ",
        "outputId": "db752b90-d465-4b4b-d86c-0c15a664e443"
      },
      "execution_count": 15,
      "outputs": [
        {
          "output_type": "stream",
          "name": "stdout",
          "text": [
            "Comparación Dieta A Antes vs Dieta B Antes: Estadístico W = 179.000, p-valor = 0.280\n",
            "No se rechaza la hipótesis nula: no hay diferencias significativas entre Dieta A Antes y Dieta B Antes.\n",
            "\n",
            "Comparación Dieta A Antes vs Dieta C Antes: Estadístico W = 209.000, p-valor = 0.641\n",
            "No se rechaza la hipótesis nula: no hay diferencias significativas entre Dieta A Antes y Dieta C Antes.\n",
            "\n",
            "Comparación Dieta B Antes vs Dieta C Antes: Estadístico W = 205.000, p-valor = 0.584\n",
            "No se rechaza la hipótesis nula: no hay diferencias significativas entre Dieta B Antes y Dieta C Antes.\n",
            "\n",
            "Comparación Dieta A Después vs Dieta B Después: Estadístico W = 173.000, p-valor = 0.229\n",
            "No se rechaza la hipótesis nula: no hay diferencias significativas entre Dieta A Después y Dieta B Después.\n",
            "\n",
            "Comparación Dieta A Después vs Dieta C Después: Estadístico W = 218.000, p-valor = 0.777\n",
            "No se rechaza la hipótesis nula: no hay diferencias significativas entre Dieta A Después y Dieta C Después.\n",
            "\n",
            "Comparación Dieta B Después vs Dieta C Después: Estadístico W = 197.000, p-valor = 0.477\n",
            "No se rechaza la hipótesis nula: no hay diferencias significativas entre Dieta B Después y Dieta C Después.\n",
            "\n"
          ]
        }
      ]
    },
    {
      "cell_type": "markdown",
      "source": [
        "## Explicación\n",
        "\n",
        "Existe diferencias entre \"antes\" y \"después\" pero no \"entre los grupos\".\n",
        "\n",
        "## Boxplot antes-despues"
      ],
      "metadata": {
        "id": "GEVJAIDQTURt"
      }
    },
    {
      "cell_type": "code",
      "source": [
        "# Crear un DataFrame para los datos en formato largo\n",
        "data = pd.DataFrame({\n",
        "    'Grupo': ['Dieta A'] * n + ['Dieta A'] * n + ['Dieta B'] * n + ['Dieta B'] * n + ['Dieta C'] * n + ['Dieta C'] * n,\n",
        "    'Condición': ['Antes'] * n + ['Después'] * n + ['Antes'] * n + ['Después'] * n + ['Antes'] * n + ['Después'] * n,\n",
        "    'Colesterol': np.concatenate([diet_a_before, diet_a_after, diet_b_before, diet_b_after, diet_c_before, diet_c_after]),\n",
        "})\n",
        "\n",
        "# Dibujo del gráfico\n",
        "plt.figure(figsize=(12, 6))\n",
        "sns.boxplot(x='Grupo', y='Colesterol', hue='Condición', data=data, palette='pastel', dodge=True)\n",
        "plt.title('Niveles de Colesterol Antes y Después de las Dietas')\n",
        "plt.ylabel('Colesterol (mg/dL)')\n",
        "plt.xlabel('Grupo de Dieta')\n",
        "plt.legend(title='Condición')\n",
        "plt.grid()\n",
        "plt.show()"
      ],
      "metadata": {
        "colab": {
          "base_uri": "https://localhost:8080/",
          "height": 565
        },
        "id": "P2VVx5vlTNKO",
        "outputId": "910822f4-cb9c-49b2-e930-6ffe55807a9a"
      },
      "execution_count": 16,
      "outputs": [
        {
          "output_type": "display_data",
          "data": {
            "text/plain": [
              "<Figure size 1200x600 with 1 Axes>"
            ],
            "image/png": "[encoded data removed]"
          },
          "metadata": {}
        }
      ]
    }
  ]
}